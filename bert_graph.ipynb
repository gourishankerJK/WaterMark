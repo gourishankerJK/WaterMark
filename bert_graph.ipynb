{
 "cells": [
  {
   "cell_type": "code",
   "execution_count": 68,
   "metadata": {},
   "outputs": [],
   "source": [
    "import os \n",
    "import json\n",
    "import pandas as pd\n",
    "import ast\n",
    "with open('bert_score_mean.json' , 'r') as f:\n",
    "    data = json.load(f)"
   ]
  },
  {
   "cell_type": "code",
   "execution_count": 69,
   "metadata": {},
   "outputs": [],
   "source": [
    "df = pd.DataFrame(data)"
   ]
  },
  {
   "cell_type": "code",
   "execution_count": 70,
   "metadata": {},
   "outputs": [],
   "source": [
    "new_col = {}\n",
    "for col in df.columns:\n",
    "    str = col \n",
    "    if \"tt\" in col:\n",
    "        index = col.index(\"tt\")\n",
    "        col = col[:index] + 't' + \" T\" +col[index+2:]\n",
    "    if \"lt\" in col :  \n",
    "        index = col.index(\"lt\")\n",
    "        col = col[:index] + 'l' + \" T\" +col[index+2:]\n",
    "    col = col.replace('_' , \" \")\n",
    "    a, b, c = (ast.literal_eval(col))\n",
    "    key = a + \" \" + b +\" \" + c\n",
    "    key = key.strip()\n",
    "    new_col[str] = key\n",
    "    "
   ]
  },
  {
   "cell_type": "code",
   "execution_count": 71,
   "metadata": {},
   "outputs": [],
   "source": [
    "df.rename(columns=new_col , inplace= True)"
   ]
  },
  {
   "cell_type": "code",
   "execution_count": 72,
   "metadata": {},
   "outputs": [
    {
     "data": {
      "text/plain": [
       "Index(['Normal Translation Kwg', 'Normal Translation Semantics',\n",
       "       'Normal Translation Sir', 'Paraphraed Pivot Translation Kwg',\n",
       "       'Paraphraed Pivot Translation Semantics',\n",
       "       'Paraphraed Pivot Translation Sir',\n",
       "       'Paraphrased Normal Translation Kwg',\n",
       "       'Paraphrased Normal Translation Semantics',\n",
       "       'Paraphrased Normal Translation Sir', 'Pivot Translation Kwg',\n",
       "       'Pivot Translation Semantics', 'Pivot Translation Sir',\n",
       "       'Recursivepara Sir Rephrased0', 'Recursivepara Sir Rephrased1',\n",
       "       'Recursivepara Sir Rephrased2', 'Recursivepara Sir Rephrased3',\n",
       "       'Recursivepara Sir Rephrased4', 'Recursivepara Kwg Rephrased0',\n",
       "       'Recursivepara Kwg Rephrased1', 'Recursivepara Kwg Rephrased2',\n",
       "       'Recursivepara Kwg Rephrased3', 'Recursivepara Kwg Rephrased4',\n",
       "       'Recursivepara Semantics Rephrased0',\n",
       "       'Recursivepara Semantics Rephrased1',\n",
       "       'Recursivepara Semantics Rephrased2',\n",
       "       'Recursivepara Semantics Rephrased3',\n",
       "       'Recursivepara Semantics Rephrased4',\n",
       "       'Translation Paraphrased Sir Rephrased0',\n",
       "       'Translation Paraphrased Sir Rephrased1',\n",
       "       'Translation Paraphrased Sir Rephrased2',\n",
       "       'Translation Paraphrased Sir Rephrased3',\n",
       "       'Translation Paraphrased Sir Rephrased4',\n",
       "       'Translation Paraphrased Kwg Rephrased0',\n",
       "       'Translation Paraphrased Kwg Rephrased1',\n",
       "       'Translation Paraphrased Kwg Rephrased2',\n",
       "       'Translation Paraphrased Kwg Rephrased3',\n",
       "       'Translation Paraphrased Kwg Rephrased4',\n",
       "       'Translation Paraphrased Semantics Rephrased0',\n",
       "       'Translation Paraphrased Semantics Rephrased1',\n",
       "       'Translation Paraphrased Semantics Rephrased2',\n",
       "       'Translation Paraphrased Semantics Rephrased3',\n",
       "       'Translation Paraphrased Semantics Rephrased4'],\n",
       "      dtype='object')"
      ]
     },
     "execution_count": 72,
     "metadata": {},
     "output_type": "execute_result"
    }
   ],
   "source": [
    "df.columns"
   ]
  },
  {
   "cell_type": "code",
   "execution_count": 74,
   "metadata": {},
   "outputs": [],
   "source": [
    "df.to_json('bert_score_mean.json')"
   ]
  },
  {
   "cell_type": "code",
   "execution_count": null,
   "metadata": {},
   "outputs": [],
   "source": []
  }
 ],
 "metadata": {
  "kernelspec": {
   "display_name": "Python 3",
   "language": "python",
   "name": "python3"
  },
  "language_info": {
   "codemirror_mode": {
    "name": "ipython",
    "version": 3
   },
   "file_extension": ".py",
   "mimetype": "text/x-python",
   "name": "python",
   "nbconvert_exporter": "python",
   "pygments_lexer": "ipython3",
   "version": "3.10.12"
  }
 },
 "nbformat": 4,
 "nbformat_minor": 2
}
